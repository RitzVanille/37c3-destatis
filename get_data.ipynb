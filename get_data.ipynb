{
 "cells": [
  {
   "cell_type": "code",
   "execution_count": null,
   "metadata": {},
   "outputs": [],
   "source": [
    "\n",
    "import yaml\n",
    "import pandas as pd\n",
    "import requests\n",
    "import io\n",
    "import os\n",
    "\n",
    "# create folders to save data (git does not track empty directories)\n",
    "\n",
    "os.makedirs('data/', exist_ok=True)\n",
    "os.makedirs('data/processed/', exist_ok=True)  \n",
    "os.makedirs('data/raw/', exist_ok=True)  \n",
    "\n",
    "# load login credentials\n",
    "\n",
    "with open(\"config/login.yaml\", \"r\", encoding=\"utf-8\") as file:\n",
    "    conf = yaml.safe_load(file)\n",
    "\n",
    "config = {\n",
    "    \"path\": conf[\"access_path\"],\n",
    "    \"format\": conf[\"format\"]\n",
    "}\n",
    "\n",
    "login = {\n",
    "    \"username\": conf[\"username\"],\n",
    "    \"password\": conf[\"password\"]\n",
    "}\n"
   ]
  },
  {
   "cell_type": "markdown",
   "metadata": {},
   "source": [
    "## Microcensus data\n",
    "\n",
    "The microcensus is a survey conducted by the national statistical office that collects data about a fraction of the total national population. Let us look at which data tables exist for the microcensus:"
   ]
  },
  {
   "cell_type": "code",
   "execution_count": null,
   "metadata": {},
   "outputs": [],
   "source": [
    "def get_table_list(selection, parameters, config):\n",
    "    parameters[\"selection\"] = selection\n",
    "    url = f\"{config['path']}/catalogue/tables\"\n",
    "    return requests.get(url, params=parameters).json()"
   ]
  },
  {
   "cell_type": "code",
   "execution_count": null,
   "metadata": {},
   "outputs": [],
   "source": [
    "relevant_tables = get_table_list(\"12211*\", login, config)\n",
    "relevant_tables"
   ]
  },
  {
   "cell_type": "markdown",
   "metadata": {},
   "source": [
    "Let us look at the data for a particular table, e.g. `12211-0003` looks potentially interesting because it has info on income. "
   ]
  },
  {
   "cell_type": "code",
   "execution_count": null,
   "metadata": {},
   "outputs": [],
   "source": [
    "\n",
    "def get_data(table, parameters, config):\n",
    "    csv_path = f\"data/raw/tablefile_{table}.csv\"\n",
    "    if os.path.isfile(csv_path):\n",
    "            data = pd.read_csv(csv_path)\n",
    "    else:\n",
    "            data = get_data_from_api(table, parameters, config)\n",
    "    return data\n",
    "\n",
    "        \n",
    "def get_data_from_api(table, parameters, config):\n",
    "    print(f\"Requesting table data for table '{table}'\")\n",
    "    parameters[\"name\"] = table\n",
    "\n",
    "    # use \"ffcsv\" format because it is consistent across tables\n",
    "    # and over time\n",
    "    parameters[\"format\"] = config[\"format\"]\n",
    "    url = f\"{config['path']}/data/tablefile\"\n",
    "    \n",
    "    response = requests.get(url, params=parameters)\n",
    "    if response.ok:\n",
    "        data = pd.read_csv(\n",
    "            io.StringIO(response.content.decode(\"utf-8\")),\n",
    "            sep = \";\",\n",
    "            decimal = \",\",\n",
    "            na_values = [\"-\"],\n",
    "        )\n",
    "        data.to_csv(f\"data/raw/tablefile_{table}.csv\", index=False)\n",
    "        return data\n",
    "    else:\n",
    "        return response\n"
   ]
  },
  {
   "cell_type": "code",
   "execution_count": null,
   "metadata": {},
   "outputs": [],
   "source": [
    "my_table = \"12211-0003\"\n",
    "\n",
    "data = get_data(my_table, login, config)\n"
   ]
  },
  {
   "cell_type": "code",
   "execution_count": null,
   "metadata": {},
   "outputs": [],
   "source": [
    "data.head()"
   ]
  },
  {
   "cell_type": "markdown",
   "metadata": {},
   "source": []
  },
  {
   "cell_type": "code",
   "execution_count": null,
   "metadata": {},
   "outputs": [],
   "source": [
    "my_data.columns"
   ]
  }
 ],
 "metadata": {
  "kernelspec": {
   "display_name": "Python 3",
   "language": "python",
   "name": "python3"
  },
  "language_info": {
   "codemirror_mode": {
    "name": "ipython",
    "version": 3
   },
   "file_extension": ".py",
   "mimetype": "text/x-python",
   "name": "python",
   "nbconvert_exporter": "python",
   "pygments_lexer": "ipython3",
   "version": "3.10.9"
  },
  "orig_nbformat": 4
 },
 "nbformat": 4,
 "nbformat_minor": 2
}
